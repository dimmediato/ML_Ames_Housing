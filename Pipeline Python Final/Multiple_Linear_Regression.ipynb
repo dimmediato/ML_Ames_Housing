{
 "cells": [
  {
   "cell_type": "code",
   "execution_count": 7,
   "id": "81c382af-f5da-4405-9dbd-8ddd37ceb22c",
   "metadata": {},
   "outputs": [],
   "source": [
    "import pandas as pd\n",
    "import numpy as np\n",
    "from sklearn.pipeline import Pipeline\n",
    "from sklearn.impute import SimpleImputer\n",
    "from sklearn.preprocessing import OrdinalEncoder, OneHotEncoder, FunctionTransformer\n",
    "from sklearn.compose import ColumnTransformer\n",
    "import matplotlib.pyplot as plt\n",
    "import sklearn.model_selection as ms\n",
    "from sklearn import tree\n",
    "from sklearn.model_selection import GridSearchCV\n",
    "from sklearn import ensemble\n",
    "from sklearn.preprocessing import LabelEncoder\n",
    "from sklearn.model_selection import cross_val_score\n",
    "from sklearn.preprocessing import StandardScaler\n",
    "from sklearn.model_selection import KFold\n",
    "import pandas as pd\n",
    "from sklearn.preprocessing import FunctionTransformer\n",
    "from sklearn.preprocessing import StandardScaler\n",
    "from sklearn.linear_model import Lasso\n",
    "from sklearn.model_selection import cross_val_score\n",
    "from sklearn.preprocessing import OneHotEncoder\n",
    "from sklearn.linear_model import Ridge, ElasticNet\n",
    "pd.set_option('display.max_columns', 500)\n",
    "\n",
    "# Load the dataset\n",
    "Ames = pd.read_csv('~/Documents/NYCDSA/Third Project/ML_Ames_Housing/data/Ames_Housing_Price_Data.csv', index_col=0)\n",
    "\n",
    "# Convert the below numeric features to categorical features\n",
    "Ames['MSSubClass'] = Ames['MSSubClass'].astype('object')\n",
    "Ames['YrSold'] = Ames['YrSold'].astype('object')\n",
    "Ames['MoSold'] = Ames['MoSold'].astype('object')\n",
    "\n",
    "# Exclude 'PID' and 'SalePrice' from features and specifically handle the 'Electrical' column\n",
    "numeric_features = Ames.select_dtypes(include=['int64', 'float64']).drop(columns=['PID', 'SalePrice','BsmtFinSF2', 'BsmtUnfSF', 'BsmtFinSF1','1stFlrSF', '2ndFlrSF', 'LowQualFinSF']).columns\n",
    "categorical_features = Ames.select_dtypes(include=['object']).columns.difference(['Electrical'])\n",
    "electrical_feature = ['Electrical']"
   ]
  },
  {
   "cell_type": "code",
   "execution_count": 8,
   "id": "5dc18082-3b8e-47df-9a02-6cb0347af7f6",
   "metadata": {},
   "outputs": [],
   "source": [
    "# Helper function to fill 'None' for missing categorical data\n",
    "def fill_none(X):\n",
    "    return X.fillna(\"None\")\n",
    "\n",
    "# Pipeline for 'Electrical': Fill missing value with mode then apply ordinal encoding\n",
    "electrical_transformer = Pipeline(steps=[\n",
    "    ('impute_electrical', SimpleImputer(strategy='most_frequent')),\n",
    "    ('onehot', OneHotEncoder(handle_unknown='ignore', drop = 'first')),\n",
    "])\n",
    "\n",
    "numeric_transformer = Pipeline(steps=[\n",
    "    ('impute_mean', SimpleImputer(strategy='mean')),\n",
    "])\n",
    "\n",
    "# Pipeline for nominal categorical features: Fill missing values with 'None' then apply one-hot encoding\n",
    "categorical_transformer = Pipeline(steps=[\n",
    "    ('impute_none', SimpleImputer(strategy='constant', fill_value='None')),  # Using SimpleImputer\n",
    "    ('onehot', OneHotEncoder(handle_unknown='ignore', drop = 'first'))\n",
    "])\n",
    "\n",
    "# Combined preprocessor for numeric, ordinal, nominal, and specific electrical data\n",
    "preprocessor = ColumnTransformer(\n",
    "    transformers=[\n",
    "        ('electrical', electrical_transformer, ['Electrical']),\n",
    "        ('num', numeric_transformer, numeric_features),\n",
    "        ('nominal', categorical_transformer, categorical_features)\n",
    "])"
   ]
  },
  {
   "cell_type": "code",
   "execution_count": 9,
   "id": "0878a1db-2533-45cb-8e9f-701c9f491d3e",
   "metadata": {},
   "outputs": [],
   "source": [
    "# Apply the preprocessing pipeline to Ames\n",
    "transformed_data = preprocessor.fit_transform(Ames)\n",
    "\n",
    "# Generate column names for the one-hot encoded features\n",
    "onehot_features = preprocessor.named_transformers_['nominal'].named_steps['onehot'].get_feature_names_out()\n",
    "all_feature_names = ['Electrical'] + list(numeric_features) + list(onehot_features)"
   ]
  },
  {
   "cell_type": "code",
   "execution_count": 10,
   "id": "da0a6ce4-f679-45f0-81e0-a22da9903780",
   "metadata": {},
   "outputs": [],
   "source": [
    "from sklearn.linear_model import LinearRegression\n",
    "model = LinearRegression()\n",
    "\n",
    "# Target variable\n",
    "y = Ames['SalePrice']\n",
    "# All features\n",
    "X = Ames.drop(columns='SalePrice')\n",
    "models = LinearRegression()\n",
    "\n",
    "coefficients_list = []\n",
    "intercepts_list = []\n",
    "scores = []\n",
    "# Perform the KFold cross-validation\n",
    "pipeline = Pipeline(steps=[\n",
    "    ('preprocessor', preprocessor),\n",
    "    ('regressor', models)\n",
    "])\n",
    "# Initialize the linear regression model\n",
    "# Fit the model on the training data"
   ]
  },
  {
   "cell_type": "code",
   "execution_count": 11,
   "id": "0027c7e8-75eb-4a2c-966f-810bfcb664ff",
   "metadata": {},
   "outputs": [],
   "source": [
    "from sklearn.model_selection import KFold\n",
    "kf = KFold(n_splits=5)\n",
    "scores = cross_val_score(pipeline, Ames.drop(columns='SalePrice'), Ames['SalePrice'], scoring = 'r2', cv=kf, n_jobs = -1)"
   ]
  },
  {
   "cell_type": "code",
   "execution_count": 15,
   "id": "85995960-d864-460c-87ae-7471a8f2bf02",
   "metadata": {},
   "outputs": [
    {
     "data": {
      "text/plain": [
       "array([0.86459614, 0.91413442, 0.92324174, 0.91555726, 0.91746021])"
      ]
     },
     "execution_count": 15,
     "metadata": {},
     "output_type": "execute_result"
    }
   ],
   "source": [
    "scores"
   ]
  },
  {
   "cell_type": "code",
   "execution_count": 14,
   "id": "fbe8bf8a-34f7-4ac1-8c4a-074a9db945f0",
   "metadata": {},
   "outputs": [
    {
     "name": "stderr",
     "output_type": "stream",
     "text": [
      "C:\\Users\\immed\\Programming\\Anaconda\\Lib\\site-packages\\sklearn\\preprocessing\\_encoders.py:202: UserWarning: Found unknown categories in columns [12, 17, 25] during transform. These unknown categories will be encoded as all zeros\n",
      "  warnings.warn(\n",
      "C:\\Users\\immed\\Programming\\Anaconda\\Lib\\site-packages\\sklearn\\preprocessing\\_encoders.py:202: UserWarning: Found unknown categories in columns [23, 33, 38, 41] during transform. These unknown categories will be encoded as all zeros\n",
      "  warnings.warn(\n"
     ]
    },
    {
     "name": "stdout",
     "output_type": "stream",
     "text": [
      "Score for Fold: 1 0.8645961418501235\n",
      "Score for Fold: 2 0.9141344203197637\n"
     ]
    },
    {
     "name": "stderr",
     "output_type": "stream",
     "text": [
      "C:\\Users\\immed\\Programming\\Anaconda\\Lib\\site-packages\\sklearn\\preprocessing\\_encoders.py:202: UserWarning: Found unknown categories in columns [12, 13, 35, 38] during transform. These unknown categories will be encoded as all zeros\n",
      "  warnings.warn(\n",
      "C:\\Users\\immed\\Programming\\Anaconda\\Lib\\site-packages\\sklearn\\preprocessing\\_encoders.py:202: UserWarning: Found unknown categories in columns [9, 10] during transform. These unknown categories will be encoded as all zeros\n",
      "  warnings.warn(\n"
     ]
    },
    {
     "name": "stdout",
     "output_type": "stream",
     "text": [
      "Score for Fold: 3 0.9232417402368964\n",
      "Score for Fold: 4 0.9155572572163262\n",
      "Score for Fold: 5 0.9174602102362468\n"
     ]
    },
    {
     "name": "stderr",
     "output_type": "stream",
     "text": [
      "C:\\Users\\immed\\Programming\\Anaconda\\Lib\\site-packages\\sklearn\\preprocessing\\_encoders.py:202: UserWarning: Found unknown categories in columns [9, 12, 13, 22, 30, 31, 43] during transform. These unknown categories will be encoded as all zeros\n",
      "  warnings.warn(\n"
     ]
    }
   ],
   "source": [
    "fold_scores = []\n",
    "fold_num = 1\n",
    "for train_index, test_index in kf.split(Ames):\n",
    "    X_train, X_test = Ames.drop(columns='SalePrice').iloc[train_index], Ames.drop(columns='SalePrice').iloc[test_index]\n",
    "    y_train, y_test = Ames['SalePrice'].iloc[train_index], Ames['SalePrice'].iloc[test_index]\n",
    "    pipeline.fit(X_train, y_train)\n",
    "    fold_score = pipeline.score(X_test, y_test)\n",
    "    print(f'Score for Fold: {fold_num}', fold_score)\n",
    "    fold_scores.append({\n",
    "        'score':fold_score,\n",
    "        'fold':fold_num})\n",
    "    fold_num += 1"
   ]
  },
  {
   "cell_type": "code",
   "execution_count": 16,
   "id": "ae54c848-eb52-4730-b9c2-6feeb7f0944d",
   "metadata": {},
   "outputs": [],
   "source": [
    "# pipeline.fit(X, y)\n",
    "# # Store coefficients and intercepts\n",
    "# coefficients_list.append(pipeline.named_steps['regressor'].coef_)\n",
    "# intercepts_list.append(pipeline.named_steps['regressor'].intercept_)\n",
    "# # Evaluate the model\n",
    "# scores.append(pipeline.score(X, y))\n",
    "# # Calculate the mean of scores, coefficients, and intercepts\n",
    "# average_score = np.mean(scores)\n",
    "# average_coefficients = np.mean(coefficients_list, axis=0)\n",
    "# # Display the average R² score across all folds\n",
    "# print(f\"Mean CV R² Score of Combined Model: {average_score:.4f}\")\n",
    "# mean_intercept = np.mean(intercepts_list)\n",
    "# print(f\"Mean Y-intercept = {mean_intercept:.0f}\")\n",
    "\n",
    "#This is the entire data set, not being split, being trained and having the entire data set being tested. "
   ]
  },
  {
   "cell_type": "code",
   "execution_count": 17,
   "id": "38b525df-8787-47f6-a16e-f55396fede9e",
   "metadata": {},
   "outputs": [
    {
     "data": {
      "text/plain": [
       "278"
      ]
     },
     "execution_count": 17,
     "metadata": {},
     "output_type": "execute_result"
    }
   ],
   "source": [
    "feature_names = []\n",
    "# Adding electrical features (assuming it's still handled as a single feature post ordinal encoding)\n",
    "feature_names.append('Electrical')\n",
    "# Adding numeric features\n",
    "feature_names.extend(numeric_features)\n",
    "# Generating one-hot encoded feature names\n",
    "onehot_features = pipeline.named_steps['preprocessor'].named_transformers_['nominal'].named_steps['onehot'].get_feature_names_out()\n",
    "feature_names.extend(onehot_features)"
   ]
  },
  {
   "cell_type": "code",
   "execution_count": 124,
   "id": "55d37a39-ce49-44f4-a0a6-80ff901710f6",
   "metadata": {},
   "outputs": [
    {
     "ename": "ValueError",
     "evalue": "All arrays must be of the same length",
     "output_type": "error",
     "traceback": [
      "\u001b[1;31m---------------------------------------------------------------------------\u001b[0m",
      "\u001b[1;31mValueError\u001b[0m                                Traceback (most recent call last)",
      "Cell \u001b[1;32mIn[124], line 2\u001b[0m\n\u001b[0;32m      1\u001b[0m feature_names \u001b[38;5;241m=\u001b[39m \u001b[38;5;28mlist\u001b[39m(feature_names)\u001b[38;5;66;03m# Create a DataFrame for the coefficients\u001b[39;00m\n\u001b[1;32m----> 2\u001b[0m df_coefficients \u001b[38;5;241m=\u001b[39m pd\u001b[38;5;241m.\u001b[39mDataFrame({\n\u001b[0;32m      3\u001b[0m     \u001b[38;5;124m'\u001b[39m\u001b[38;5;124mFeature\u001b[39m\u001b[38;5;124m'\u001b[39m: feature_names,\n\u001b[0;32m      4\u001b[0m     \u001b[38;5;124m'\u001b[39m\u001b[38;5;124mAverage Coefficient\u001b[39m\u001b[38;5;124m'\u001b[39m: average_coefficients\n\u001b[0;32m      5\u001b[0m     })\u001b[38;5;241m.\u001b[39msort_values(by\u001b[38;5;241m=\u001b[39m\u001b[38;5;124m'\u001b[39m\u001b[38;5;124mAverage Coefficient\u001b[39m\u001b[38;5;124m'\u001b[39m)\u001b[38;5;241m.\u001b[39mreset_index(drop\u001b[38;5;241m=\u001b[39m\u001b[38;5;28;01mTrue\u001b[39;00m)\n\u001b[0;32m      6\u001b[0m \u001b[38;5;66;03m# Display the DataFrame\u001b[39;00m\n\u001b[0;32m      7\u001b[0m \u001b[38;5;28mprint\u001b[39m(\u001b[38;5;124m\"\u001b[39m\u001b[38;5;124mCoefficients for Combined Model:\u001b[39m\u001b[38;5;124m\"\u001b[39m)\n",
      "File \u001b[1;32m~\\Programming\\Anaconda\\Lib\\site-packages\\pandas\\core\\frame.py:733\u001b[0m, in \u001b[0;36mDataFrame.__init__\u001b[1;34m(self, data, index, columns, dtype, copy)\u001b[0m\n\u001b[0;32m    727\u001b[0m     mgr \u001b[38;5;241m=\u001b[39m \u001b[38;5;28mself\u001b[39m\u001b[38;5;241m.\u001b[39m_init_mgr(\n\u001b[0;32m    728\u001b[0m         data, axes\u001b[38;5;241m=\u001b[39m{\u001b[38;5;124m\"\u001b[39m\u001b[38;5;124mindex\u001b[39m\u001b[38;5;124m\"\u001b[39m: index, \u001b[38;5;124m\"\u001b[39m\u001b[38;5;124mcolumns\u001b[39m\u001b[38;5;124m\"\u001b[39m: columns}, dtype\u001b[38;5;241m=\u001b[39mdtype, copy\u001b[38;5;241m=\u001b[39mcopy\n\u001b[0;32m    729\u001b[0m     )\n\u001b[0;32m    731\u001b[0m \u001b[38;5;28;01melif\u001b[39;00m \u001b[38;5;28misinstance\u001b[39m(data, \u001b[38;5;28mdict\u001b[39m):\n\u001b[0;32m    732\u001b[0m     \u001b[38;5;66;03m# GH#38939 de facto copy defaults to False only in non-dict cases\u001b[39;00m\n\u001b[1;32m--> 733\u001b[0m     mgr \u001b[38;5;241m=\u001b[39m dict_to_mgr(data, index, columns, dtype\u001b[38;5;241m=\u001b[39mdtype, copy\u001b[38;5;241m=\u001b[39mcopy, typ\u001b[38;5;241m=\u001b[39mmanager)\n\u001b[0;32m    734\u001b[0m \u001b[38;5;28;01melif\u001b[39;00m \u001b[38;5;28misinstance\u001b[39m(data, ma\u001b[38;5;241m.\u001b[39mMaskedArray):\n\u001b[0;32m    735\u001b[0m     \u001b[38;5;28;01mfrom\u001b[39;00m \u001b[38;5;21;01mnumpy\u001b[39;00m\u001b[38;5;21;01m.\u001b[39;00m\u001b[38;5;21;01mma\u001b[39;00m \u001b[38;5;28;01mimport\u001b[39;00m mrecords\n",
      "File \u001b[1;32m~\\Programming\\Anaconda\\Lib\\site-packages\\pandas\\core\\internals\\construction.py:503\u001b[0m, in \u001b[0;36mdict_to_mgr\u001b[1;34m(data, index, columns, dtype, typ, copy)\u001b[0m\n\u001b[0;32m    499\u001b[0m     \u001b[38;5;28;01melse\u001b[39;00m:\n\u001b[0;32m    500\u001b[0m         \u001b[38;5;66;03m# dtype check to exclude e.g. range objects, scalars\u001b[39;00m\n\u001b[0;32m    501\u001b[0m         arrays \u001b[38;5;241m=\u001b[39m [x\u001b[38;5;241m.\u001b[39mcopy() \u001b[38;5;28;01mif\u001b[39;00m \u001b[38;5;28mhasattr\u001b[39m(x, \u001b[38;5;124m\"\u001b[39m\u001b[38;5;124mdtype\u001b[39m\u001b[38;5;124m\"\u001b[39m) \u001b[38;5;28;01melse\u001b[39;00m x \u001b[38;5;28;01mfor\u001b[39;00m x \u001b[38;5;129;01min\u001b[39;00m arrays]\n\u001b[1;32m--> 503\u001b[0m \u001b[38;5;28;01mreturn\u001b[39;00m arrays_to_mgr(arrays, columns, index, dtype\u001b[38;5;241m=\u001b[39mdtype, typ\u001b[38;5;241m=\u001b[39mtyp, consolidate\u001b[38;5;241m=\u001b[39mcopy)\n",
      "File \u001b[1;32m~\\Programming\\Anaconda\\Lib\\site-packages\\pandas\\core\\internals\\construction.py:114\u001b[0m, in \u001b[0;36marrays_to_mgr\u001b[1;34m(arrays, columns, index, dtype, verify_integrity, typ, consolidate)\u001b[0m\n\u001b[0;32m    111\u001b[0m \u001b[38;5;28;01mif\u001b[39;00m verify_integrity:\n\u001b[0;32m    112\u001b[0m     \u001b[38;5;66;03m# figure out the index, if necessary\u001b[39;00m\n\u001b[0;32m    113\u001b[0m     \u001b[38;5;28;01mif\u001b[39;00m index \u001b[38;5;129;01mis\u001b[39;00m \u001b[38;5;28;01mNone\u001b[39;00m:\n\u001b[1;32m--> 114\u001b[0m         index \u001b[38;5;241m=\u001b[39m _extract_index(arrays)\n\u001b[0;32m    115\u001b[0m     \u001b[38;5;28;01melse\u001b[39;00m:\n\u001b[0;32m    116\u001b[0m         index \u001b[38;5;241m=\u001b[39m ensure_index(index)\n",
      "File \u001b[1;32m~\\Programming\\Anaconda\\Lib\\site-packages\\pandas\\core\\internals\\construction.py:677\u001b[0m, in \u001b[0;36m_extract_index\u001b[1;34m(data)\u001b[0m\n\u001b[0;32m    675\u001b[0m lengths \u001b[38;5;241m=\u001b[39m \u001b[38;5;28mlist\u001b[39m(\u001b[38;5;28mset\u001b[39m(raw_lengths))\n\u001b[0;32m    676\u001b[0m \u001b[38;5;28;01mif\u001b[39;00m \u001b[38;5;28mlen\u001b[39m(lengths) \u001b[38;5;241m>\u001b[39m \u001b[38;5;241m1\u001b[39m:\n\u001b[1;32m--> 677\u001b[0m     \u001b[38;5;28;01mraise\u001b[39;00m \u001b[38;5;167;01mValueError\u001b[39;00m(\u001b[38;5;124m\"\u001b[39m\u001b[38;5;124mAll arrays must be of the same length\u001b[39m\u001b[38;5;124m\"\u001b[39m)\n\u001b[0;32m    679\u001b[0m \u001b[38;5;28;01mif\u001b[39;00m have_dicts:\n\u001b[0;32m    680\u001b[0m     \u001b[38;5;28;01mraise\u001b[39;00m \u001b[38;5;167;01mValueError\u001b[39;00m(\n\u001b[0;32m    681\u001b[0m         \u001b[38;5;124m\"\u001b[39m\u001b[38;5;124mMixing dicts with non-Series may lead to ambiguous ordering.\u001b[39m\u001b[38;5;124m\"\u001b[39m\n\u001b[0;32m    682\u001b[0m     )\n",
      "\u001b[1;31mValueError\u001b[0m: All arrays must be of the same length"
     ]
    }
   ],
   "source": [
    "feature_names = list(feature_names)# Create a DataFrame for the coefficients\n",
    "df_coefficients = pd.DataFrame({\n",
    "    'Feature': feature_names,\n",
    "    'Average Coefficient': average_coefficients\n",
    "    }).sort_values(by='Average Coefficient').reset_index(drop=True)\n",
    "# Display the DataFrame\n",
    "print(\"Coefficients for Combined Model:\")\n",
    "print(df_coefficients)"
   ]
  },
  {
   "cell_type": "code",
   "execution_count": null,
   "id": "3369b2c6-49cc-4fdf-9175-7fba1e90366d",
   "metadata": {},
   "outputs": [],
   "source": []
  },
  {
   "cell_type": "code",
   "execution_count": null,
   "id": "9680fd24-b09f-4681-a585-01548dbd0429",
   "metadata": {},
   "outputs": [],
   "source": []
  }
 ],
 "metadata": {
  "kernelspec": {
   "display_name": "Python 3 (ipykernel)",
   "language": "python",
   "name": "python3"
  },
  "language_info": {
   "codemirror_mode": {
    "name": "ipython",
    "version": 3
   },
   "file_extension": ".py",
   "mimetype": "text/x-python",
   "name": "python",
   "nbconvert_exporter": "python",
   "pygments_lexer": "ipython3",
   "version": "3.11.7"
  }
 },
 "nbformat": 4,
 "nbformat_minor": 5
}
