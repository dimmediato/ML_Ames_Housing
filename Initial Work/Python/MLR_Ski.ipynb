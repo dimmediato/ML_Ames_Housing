{
 "cells": [
  {
   "cell_type": "code",
   "execution_count": 1,
   "id": "2b9f8e8e-f168-4c3c-ae1b-56993dde3f78",
   "metadata": {},
   "outputs": [
    {
     "name": "stdout",
     "output_type": "stream",
     "text": [
      "Train-Test R^2 Score: 0.4855\n",
      "Cross-Validation R^2 Scores: [0.4884, 0.5412, 0.5214, 0.5458, 0.4672]\n"
     ]
    }
   ],
   "source": [
    "# Load the Ames dataset\n",
    "import pandas as pd\n",
    "Ames = pd.read_csv('~/Documents/NYCDSA/Third Project/ML_Ames_Housing/data/Ames_Housing_Price_Data.csv')\n",
    "# Import Linear Regression, Train-Test, Cross-Validation from scikit-learn\n",
    "from sklearn.linear_model import LinearRegression\n",
    "from sklearn.model_selection import train_test_split, cross_val_score\n",
    "# Select features and target\n",
    "X = Ames[['GrLivArea']]  # Feature: GrLivArea\n",
    "y = Ames['SalePrice']    # Target: SalePrice\n",
    "# Split data into training and testing sets\n",
    "X_train, X_test, y_train, y_test = train_test_split(X, y, test_size=0.2, random_state=42)\n",
    "# Linear Regression model using Train-Test\n",
    "model = LinearRegression()\n",
    "model.fit(X_train, y_train)\n",
    "train_test_score = round(model.score(X_test, y_test), 4)\n",
    "print(f\"Train-Test R^2 Score: {train_test_score}\")\n",
    "# Perform 5-Fold Cross-Validation\n",
    "cv_scores = cross_val_score(model, X, y, cv=5)\n",
    "cv_scores_rounded = [round(score, 4) for score in cv_scores]\n",
    "print(f\"Cross-Validation R^2 Scores: {cv_scores_rounded}\")"
   ]
  },
  {
   "cell_type": "code",
   "execution_count": 2,
   "id": "ef55b519-2776-4f92-b4e0-c850a351ff25",
   "metadata": {},
   "outputs": [
    {
     "name": "stdout",
     "output_type": "stream",
     "text": [
      "The shape of the DataFrame before One Hot Encoding is: (2580, 27)\n",
      "   MSZoning_A (agr)  MSZoning_C (all)  MSZoning_FV  MSZoning_I (all)  \\\n",
      "0               0.0               0.0          0.0               0.0   \n",
      "1               0.0               0.0          0.0               0.0   \n",
      "2               0.0               1.0          0.0               0.0   \n",
      "3               0.0               0.0          0.0               0.0   \n",
      "4               0.0               0.0          0.0               0.0   \n",
      "\n",
      "   MSZoning_RH  MSZoning_RL  MSZoning_RM  Street_Grvl  Street_Pave  \\\n",
      "0          0.0          1.0          0.0          0.0          1.0   \n",
      "1          0.0          1.0          0.0          0.0          1.0   \n",
      "2          0.0          0.0          0.0          0.0          1.0   \n",
      "3          0.0          1.0          0.0          0.0          1.0   \n",
      "4          0.0          1.0          0.0          0.0          1.0   \n",
      "\n",
      "   LotShape_IR1  ...  SaleType_New  SaleType_Oth  SaleType_VWD  SaleType_WD   \\\n",
      "0           0.0  ...           0.0           0.0           0.0           1.0   \n",
      "1           0.0  ...           0.0           0.0           0.0           1.0   \n",
      "2           0.0  ...           0.0           0.0           0.0           1.0   \n",
      "3           0.0  ...           0.0           0.0           0.0           1.0   \n",
      "4           0.0  ...           0.0           0.0           0.0           1.0   \n",
      "\n",
      "   SaleCondition_Abnorml  SaleCondition_AdjLand  SaleCondition_Alloca  \\\n",
      "0                    0.0                    0.0                   0.0   \n",
      "1                    0.0                    0.0                   0.0   \n",
      "2                    0.0                    0.0                   0.0   \n",
      "3                    0.0                    0.0                   0.0   \n",
      "4                    0.0                    0.0                   0.0   \n",
      "\n",
      "   SaleCondition_Family  SaleCondition_Normal  SaleCondition_Partial  \n",
      "0                   0.0                   1.0                    0.0  \n",
      "1                   0.0                   1.0                    0.0  \n",
      "2                   0.0                   1.0                    0.0  \n",
      "3                   0.0                   1.0                    0.0  \n",
      "4                   0.0                   1.0                    0.0  \n",
      "\n",
      "[5 rows x 188 columns]\n",
      "The shape of the DataFrame after One Hot Encoding is: (2580, 188)\n"
     ]
    },
    {
     "name": "stderr",
     "output_type": "stream",
     "text": [
      "C:\\Users\\immed\\Programming\\Anaconda\\Lib\\site-packages\\sklearn\\preprocessing\\_encoders.py:868: FutureWarning: `sparse` was renamed to `sparse_output` in version 1.2 and will be removed in 1.4. `sparse_output` is ignored unless you leave `sparse` to its default value.\n",
      "  warnings.warn(\n"
     ]
    }
   ],
   "source": [
    "# Load only categorical columns without missing values from the Ames dataset\n",
    "import pandas as pd\n",
    "Ames = pd.read_csv('~/Documents/NYCDSA/Third Project/ML_Ames_Housing/data/Ames_Housing_Price_Data.csv').select_dtypes(include=['object']).dropna(axis=1)\n",
    "print(f\"The shape of the DataFrame before One Hot Encoding is: {Ames.shape}\")\n",
    "# Import OneHotEncoder and apply it to Ames:\n",
    "from sklearn.preprocessing import OneHotEncoder\n",
    "encoder = OneHotEncoder(sparse=False)\n",
    "Ames_One_Hot = encoder.fit_transform(Ames)\n",
    "# Convert the encoded result back to a DataFrame\n",
    "Ames_encoded_df = pd.DataFrame(Ames_One_Hot, columns=encoder.get_feature_names_out(Ames.columns))\n",
    "# Display the new DataFrame and it's expanded shape\n",
    "print(Ames_encoded_df.head())\n",
    "print(f\"The shape of the DataFrame after One Hot Encoding is: {Ames_encoded_df.shape}\")"
   ]
  },
  {
   "cell_type": "code",
   "execution_count": 5,
   "id": "e1953c57-793b-4fc8-ac6d-8a77db963ccf",
   "metadata": {},
   "outputs": [
    {
     "name": "stdout",
     "output_type": "stream",
     "text": [
      "The shape of the DataFrame before One Hot Encoding is: (2580, 27)\n",
      "   MSZoning_A (agr)  MSZoning_C (all)  MSZoning_FV  MSZoning_I (all)  \\\n",
      "0               0.0               0.0          0.0               0.0   \n",
      "1               0.0               0.0          0.0               0.0   \n",
      "2               0.0               1.0          0.0               0.0   \n",
      "3               0.0               0.0          0.0               0.0   \n",
      "4               0.0               0.0          0.0               0.0   \n",
      "\n",
      "   MSZoning_RH  MSZoning_RL  MSZoning_RM  Street_Grvl  Street_Pave  \\\n",
      "0          0.0          1.0          0.0          0.0          1.0   \n",
      "1          0.0          1.0          0.0          0.0          1.0   \n",
      "2          0.0          0.0          0.0          0.0          1.0   \n",
      "3          0.0          1.0          0.0          0.0          1.0   \n",
      "4          0.0          1.0          0.0          0.0          1.0   \n",
      "\n",
      "   LotShape_IR1  ...  SaleType_New  SaleType_Oth  SaleType_VWD  SaleType_WD   \\\n",
      "0           0.0  ...           0.0           0.0           0.0           1.0   \n",
      "1           0.0  ...           0.0           0.0           0.0           1.0   \n",
      "2           0.0  ...           0.0           0.0           0.0           1.0   \n",
      "3           0.0  ...           0.0           0.0           0.0           1.0   \n",
      "4           0.0  ...           0.0           0.0           0.0           1.0   \n",
      "\n",
      "   SaleCondition_Abnorml  SaleCondition_AdjLand  SaleCondition_Alloca  \\\n",
      "0                    0.0                    0.0                   0.0   \n",
      "1                    0.0                    0.0                   0.0   \n",
      "2                    0.0                    0.0                   0.0   \n",
      "3                    0.0                    0.0                   0.0   \n",
      "4                    0.0                    0.0                   0.0   \n",
      "\n",
      "   SaleCondition_Family  SaleCondition_Normal  SaleCondition_Partial  \n",
      "0                   0.0                   1.0                    0.0  \n",
      "1                   0.0                   1.0                    0.0  \n",
      "2                   0.0                   1.0                    0.0  \n",
      "3                   0.0                   1.0                    0.0  \n",
      "4                   0.0                   1.0                    0.0  \n",
      "\n",
      "[5 rows x 188 columns]\n",
      "The shape of the DataFrame after One Hot Encoding is: (2580, 188)\n"
     ]
    },
    {
     "name": "stderr",
     "output_type": "stream",
     "text": [
      "C:\\Users\\immed\\Programming\\Anaconda\\Lib\\site-packages\\sklearn\\preprocessing\\_encoders.py:868: FutureWarning: `sparse` was renamed to `sparse_output` in version 1.2 and will be removed in 1.4. `sparse_output` is ignored unless you leave `sparse` to its default value.\n",
      "  warnings.warn(\n"
     ]
    },
    {
     "name": "stdout",
     "output_type": "stream",
     "text": [
      "Feature selected for highest predictability: Neighborhood\n"
     ]
    }
   ],
   "source": [
    "# Load only categorical columns without missing values from the Ames dataset\n",
    "import pandas as pd\n",
    "Ames = pd.read_csv('~/Documents/NYCDSA/Third Project/ML_Ames_Housing/data/Ames_Housing_Price_Data.csv').select_dtypes(include=['object']).dropna(axis=1)\n",
    "print(f\"The shape of the DataFrame before One Hot Encoding is: {Ames.shape}\")\n",
    "# Import OneHotEncoder and apply it to Ames:\n",
    "from sklearn.preprocessing import OneHotEncoder\n",
    "encoder = OneHotEncoder(sparse=False)\n",
    "Ames_One_Hot = encoder.fit_transform(Ames)\n",
    "# Convert the encoded result back to a DataFrame\n",
    "Ames_encoded_df = pd.DataFrame(Ames_One_Hot, columns=encoder.get_feature_names_out(Ames.columns))\n",
    "# Display the new DataFrame and it's expanded shape\n",
    "print(Ames_encoded_df.head())\n",
    "print(f\"The shape of the DataFrame after One Hot Encoding is: {Ames_encoded_df.shape}\")\n",
    "\n",
    "# Buidling on the code above to identify top categorical feature\n",
    "from sklearn.linear_model import LinearRegression\n",
    "from sklearn.model_selection import cross_val_score\n",
    "# Set 'SalePrice' as the target variable\n",
    "y = pd.read_csv('~/Documents/NYCDSA/Third Project/ML_Ames_Housing/data/Ames_Housing_Price_Data.csv')['SalePrice']\n",
    "# Dictionary to store feature names and their corresponding mean CV R² scores\n",
    "feature_scores = {}\n",
    "for feature in Ames.columns:\n",
    "    encoder = OneHotEncoder(drop='first')\n",
    "    X_encoded = encoder.fit_transform(Ames[[feature]])\n",
    "    # Initialize the linear regression model\n",
    "    model = LinearRegression()\n",
    "    # Perform 5-fold cross-validation and calculate R^2 scores\n",
    "    scores = cross_val_score(model, X_encoded, y)\n",
    "    mean_score = scores.mean()\n",
    "    # Store the mean R^2 score\n",
    "    feature_scores[feature] = mean_score\n",
    "# Sort features based on their mean CV R² scores in descending order\n",
    "sorted_features = sorted(feature_scores.items(), key=lambda item: item[1], reverse=True)\n",
    "print(\"Feature selected for highest predictability:\", sorted_features[0][0])"
   ]
  },
  {
   "cell_type": "code",
   "execution_count": 6,
   "id": "c32957a8-32f0-497e-ade7-1b13a07c661a",
   "metadata": {},
   "outputs": [
    {
     "name": "stdout",
     "output_type": "stream",
     "text": [
      "Top 5 Categorical Features:\n",
      "Neighborhood: Mean CV R² = 0.5406\n",
      "ExterQual: Mean CV R² = 0.4649\n",
      "KitchenQual: Mean CV R² = 0.4369\n",
      "Foundation: Mean CV R² = 0.2545\n",
      "HeatingQC: Mean CV R² = 0.1889\n"
     ]
    }
   ],
   "source": [
    "# Building on the code above to determine the performance of top 5 categorical features\n",
    "print(\"Top 5 Categorical Features:\")\n",
    "for feature, score in sorted_features[0:5]:\n",
    "    print(f\"{feature}: Mean CV R² = {score:.4f}\")"
   ]
  },
  {
   "cell_type": "code",
   "execution_count": null,
   "id": "c0ccfe6f-d7e7-460f-b83d-43bbffa2ec64",
   "metadata": {},
   "outputs": [],
   "source": []
  }
 ],
 "metadata": {
  "kernelspec": {
   "display_name": "Python 3 (ipykernel)",
   "language": "python",
   "name": "python3"
  },
  "language_info": {
   "codemirror_mode": {
    "name": "ipython",
    "version": 3
   },
   "file_extension": ".py",
   "mimetype": "text/x-python",
   "name": "python",
   "nbconvert_exporter": "python",
   "pygments_lexer": "ipython3",
   "version": "3.11.7"
  }
 },
 "nbformat": 4,
 "nbformat_minor": 5
}
